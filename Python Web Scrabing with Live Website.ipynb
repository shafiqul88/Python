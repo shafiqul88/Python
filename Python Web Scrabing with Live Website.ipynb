{
 "cells": [
  {
   "cell_type": "code",
   "execution_count": 16,
   "id": "9d65094a-02b6-4940-a3ea-38a62e81f81d",
   "metadata": {},
   "outputs": [],
   "source": [
    "from bs4 import BeautifulSoup\n",
    "import requests\n"
   ]
  },
  {
   "cell_type": "code",
   "execution_count": 17,
   "id": "ddbf2d31-e999-4b36-ad1a-71d34eb135e7",
   "metadata": {},
   "outputs": [],
   "source": [
    "url = 'https://dsebd.org/latest_share_price_scroll_by_ltp.php'\n",
    "page = requests.get(url)\n",
    "soup = BeautifulSoup(page.text, 'html')"
   ]
  },
  {
   "cell_type": "code",
   "execution_count": null,
   "id": "54dc602a-ab7b-4f4e-8195-b47a06294a33",
   "metadata": {},
   "outputs": [],
   "source": [
    "print(soup.prettify())"
   ]
  },
  {
   "cell_type": "code",
   "execution_count": 19,
   "id": "9d8e04c3-ee36-4aa5-bc3b-5a2a00be8f67",
   "metadata": {},
   "outputs": [],
   "source": [
    "table_head=soup.find_all('th')"
   ]
  },
  {
   "cell_type": "code",
   "execution_count": null,
   "id": "bacfc639-906a-4be4-8625-bd27cfcf2af3",
   "metadata": {},
   "outputs": [],
   "source": [
    "table_head"
   ]
  },
  {
   "cell_type": "code",
   "execution_count": 21,
   "id": "ca43a65d-3a14-4536-b301-4a0dfba93516",
   "metadata": {},
   "outputs": [],
   "source": [
    "table_head_titles = [title.text.strip() for title in table_head]"
   ]
  },
  {
   "cell_type": "code",
   "execution_count": 22,
   "id": "fda58079-a77b-4652-8ca6-b0307df86e4d",
   "metadata": {},
   "outputs": [
    {
     "name": "stdout",
     "output_type": "stream",
     "text": [
      "['#', 'TRADING CODE', 'LTP*', 'HIGH', 'LOW', 'CLOSEP*', 'YCP*', 'CHANGE', 'TRADE', 'VALUE (mn)', 'VOLUME']\n"
     ]
    }
   ],
   "source": [
    "print(table_head_titles)"
   ]
  },
  {
   "cell_type": "code",
   "execution_count": 23,
   "id": "3f17c56c-af7a-4cdd-9c58-63319dea53f0",
   "metadata": {},
   "outputs": [],
   "source": [
    "import pandas as pd"
   ]
  },
  {
   "cell_type": "code",
   "execution_count": 24,
   "id": "abb1b49f-a7f3-4d81-b889-0db6d30d5746",
   "metadata": {},
   "outputs": [],
   "source": [
    "df = pd.DataFrame(columns = table_head_titles)"
   ]
  },
  {
   "cell_type": "code",
   "execution_count": 25,
   "id": "e534d0f0-b633-4b99-b2c3-799c86ba25fb",
   "metadata": {},
   "outputs": [
    {
     "data": {
      "text/html": [
       "<div>\n",
       "<style scoped>\n",
       "    .dataframe tbody tr th:only-of-type {\n",
       "        vertical-align: middle;\n",
       "    }\n",
       "\n",
       "    .dataframe tbody tr th {\n",
       "        vertical-align: top;\n",
       "    }\n",
       "\n",
       "    .dataframe thead th {\n",
       "        text-align: right;\n",
       "    }\n",
       "</style>\n",
       "<table border=\"1\" class=\"dataframe\">\n",
       "  <thead>\n",
       "    <tr style=\"text-align: right;\">\n",
       "      <th></th>\n",
       "      <th>#</th>\n",
       "      <th>TRADING CODE</th>\n",
       "      <th>LTP*</th>\n",
       "      <th>HIGH</th>\n",
       "      <th>LOW</th>\n",
       "      <th>CLOSEP*</th>\n",
       "      <th>YCP*</th>\n",
       "      <th>CHANGE</th>\n",
       "      <th>TRADE</th>\n",
       "      <th>VALUE (mn)</th>\n",
       "      <th>VOLUME</th>\n",
       "    </tr>\n",
       "  </thead>\n",
       "  <tbody>\n",
       "  </tbody>\n",
       "</table>\n",
       "</div>"
      ],
      "text/plain": [
       "Empty DataFrame\n",
       "Columns: [#, TRADING CODE, LTP*, HIGH, LOW, CLOSEP*, YCP*, CHANGE, TRADE, VALUE (mn), VOLUME]\n",
       "Index: []"
      ]
     },
     "execution_count": 25,
     "metadata": {},
     "output_type": "execute_result"
    }
   ],
   "source": [
    "df"
   ]
  },
  {
   "cell_type": "code",
   "execution_count": 26,
   "id": "e6194ba6-326a-4618-abc1-0ccccf5236a4",
   "metadata": {},
   "outputs": [],
   "source": [
    "table = soup.find_all('table', class_='table-bordered')"
   ]
  },
  {
   "cell_type": "code",
   "execution_count": 27,
   "id": "50d87fe4-1c96-453d-b7d1-b677d5caebd0",
   "metadata": {},
   "outputs": [],
   "source": [
    "for row in table:\n",
    "    a = row.find_all('tr')\n",
    "column_data = a"
   ]
  },
  {
   "cell_type": "code",
   "execution_count": 28,
   "id": "cd1fc965-8bcf-4d1a-8c72-1a0b28be09e4",
   "metadata": {},
   "outputs": [],
   "source": [
    "for row1 in column_data[1:]:\n",
    "    myrow_data = row1.find_all('td')\n",
    "    each_row_data = [data.text.strip() for data in myrow_data]\n",
    "    \n",
    "    \n",
    "    length = len(df)\n",
    "    df.loc[length] = each_row_data"
   ]
  },
  {
   "cell_type": "code",
   "execution_count": 29,
   "id": "3a4e2de6-f50d-4a8f-aa1f-42d161fdae6b",
   "metadata": {},
   "outputs": [
    {
     "data": {
      "text/html": [
       "<div>\n",
       "<style scoped>\n",
       "    .dataframe tbody tr th:only-of-type {\n",
       "        vertical-align: middle;\n",
       "    }\n",
       "\n",
       "    .dataframe tbody tr th {\n",
       "        vertical-align: top;\n",
       "    }\n",
       "\n",
       "    .dataframe thead th {\n",
       "        text-align: right;\n",
       "    }\n",
       "</style>\n",
       "<table border=\"1\" class=\"dataframe\">\n",
       "  <thead>\n",
       "    <tr style=\"text-align: right;\">\n",
       "      <th></th>\n",
       "      <th>#</th>\n",
       "      <th>TRADING CODE</th>\n",
       "      <th>LTP*</th>\n",
       "      <th>HIGH</th>\n",
       "      <th>LOW</th>\n",
       "      <th>CLOSEP*</th>\n",
       "      <th>YCP*</th>\n",
       "      <th>CHANGE</th>\n",
       "      <th>TRADE</th>\n",
       "      <th>VALUE (mn)</th>\n",
       "      <th>VOLUME</th>\n",
       "    </tr>\n",
       "  </thead>\n",
       "  <tbody>\n",
       "    <tr>\n",
       "      <th>0</th>\n",
       "      <td>1</td>\n",
       "      <td>RECKITTBEN</td>\n",
       "      <td>3,375.1</td>\n",
       "      <td>3,380</td>\n",
       "      <td>3,369</td>\n",
       "      <td>3,375.1</td>\n",
       "      <td>3,373.1</td>\n",
       "      <td>2</td>\n",
       "      <td>100</td>\n",
       "      <td>1.95</td>\n",
       "      <td>578</td>\n",
       "    </tr>\n",
       "    <tr>\n",
       "      <th>1</th>\n",
       "      <td>2</td>\n",
       "      <td>MARICO</td>\n",
       "      <td>2,776.6</td>\n",
       "      <td>2,875</td>\n",
       "      <td>2,770</td>\n",
       "      <td>2,776.6</td>\n",
       "      <td>2,781</td>\n",
       "      <td>-4.4</td>\n",
       "      <td>179</td>\n",
       "      <td>11.654</td>\n",
       "      <td>4,195</td>\n",
       "    </tr>\n",
       "    <tr>\n",
       "      <th>2</th>\n",
       "      <td>3</td>\n",
       "      <td>EASTRNLUB</td>\n",
       "      <td>2,439.6</td>\n",
       "      <td>2,475</td>\n",
       "      <td>2,425.5</td>\n",
       "      <td>2,439.6</td>\n",
       "      <td>2,431.6</td>\n",
       "      <td>8</td>\n",
       "      <td>937</td>\n",
       "      <td>14.382</td>\n",
       "      <td>5,851</td>\n",
       "    </tr>\n",
       "    <tr>\n",
       "      <th>3</th>\n",
       "      <td>4</td>\n",
       "      <td>UNILEVERCL</td>\n",
       "      <td>2,376</td>\n",
       "      <td>2,405</td>\n",
       "      <td>2,375</td>\n",
       "      <td>2,377.5</td>\n",
       "      <td>2,388.3</td>\n",
       "      <td>-12.3</td>\n",
       "      <td>40</td>\n",
       "      <td>0.212</td>\n",
       "      <td>89</td>\n",
       "    </tr>\n",
       "    <tr>\n",
       "      <th>4</th>\n",
       "      <td>5</td>\n",
       "      <td>BERGERPBL</td>\n",
       "      <td>1,421.8</td>\n",
       "      <td>1,430</td>\n",
       "      <td>1,409.3</td>\n",
       "      <td>1,421.8</td>\n",
       "      <td>1,415</td>\n",
       "      <td>6.8</td>\n",
       "      <td>465</td>\n",
       "      <td>21.706</td>\n",
       "      <td>15,321</td>\n",
       "    </tr>\n",
       "    <tr>\n",
       "      <th>...</th>\n",
       "      <td>...</td>\n",
       "      <td>...</td>\n",
       "      <td>...</td>\n",
       "      <td>...</td>\n",
       "      <td>...</td>\n",
       "      <td>...</td>\n",
       "      <td>...</td>\n",
       "      <td>...</td>\n",
       "      <td>...</td>\n",
       "      <td>...</td>\n",
       "      <td>...</td>\n",
       "    </tr>\n",
       "    <tr>\n",
       "      <th>392</th>\n",
       "      <td>393</td>\n",
       "      <td>PLFSL</td>\n",
       "      <td>1.1</td>\n",
       "      <td>1.2</td>\n",
       "      <td>1.1</td>\n",
       "      <td>1.1</td>\n",
       "      <td>1.1</td>\n",
       "      <td>0</td>\n",
       "      <td>77</td>\n",
       "      <td>0.53</td>\n",
       "      <td>481,157</td>\n",
       "    </tr>\n",
       "    <tr>\n",
       "      <th>393</th>\n",
       "      <td>394</td>\n",
       "      <td>BDSERVICE</td>\n",
       "      <td>0</td>\n",
       "      <td>0</td>\n",
       "      <td>0</td>\n",
       "      <td>5.2</td>\n",
       "      <td>5.2</td>\n",
       "      <td>--</td>\n",
       "      <td>0</td>\n",
       "      <td>0</td>\n",
       "      <td>0</td>\n",
       "    </tr>\n",
       "    <tr>\n",
       "      <th>394</th>\n",
       "      <td>395</td>\n",
       "      <td>SAVAREFR</td>\n",
       "      <td>0</td>\n",
       "      <td>0</td>\n",
       "      <td>0</td>\n",
       "      <td>215.5</td>\n",
       "      <td>215.5</td>\n",
       "      <td>--</td>\n",
       "      <td>0</td>\n",
       "      <td>0</td>\n",
       "      <td>0</td>\n",
       "    </tr>\n",
       "    <tr>\n",
       "      <th>395</th>\n",
       "      <td>396</td>\n",
       "      <td>ATCSLGF</td>\n",
       "      <td>0</td>\n",
       "      <td>0</td>\n",
       "      <td>0</td>\n",
       "      <td>7.5</td>\n",
       "      <td>7.5</td>\n",
       "      <td>--</td>\n",
       "      <td>0</td>\n",
       "      <td>0</td>\n",
       "      <td>0</td>\n",
       "    </tr>\n",
       "    <tr>\n",
       "      <th>396</th>\n",
       "      <td>397</td>\n",
       "      <td>VAMLRBBF</td>\n",
       "      <td>0</td>\n",
       "      <td>0</td>\n",
       "      <td>0</td>\n",
       "      <td>5.6</td>\n",
       "      <td>5.6</td>\n",
       "      <td>--</td>\n",
       "      <td>0</td>\n",
       "      <td>0</td>\n",
       "      <td>0</td>\n",
       "    </tr>\n",
       "  </tbody>\n",
       "</table>\n",
       "<p>397 rows × 11 columns</p>\n",
       "</div>"
      ],
      "text/plain": [
       "       # TRADING CODE     LTP*   HIGH      LOW  CLOSEP*     YCP* CHANGE TRADE  \\\n",
       "0      1   RECKITTBEN  3,375.1  3,380    3,369  3,375.1  3,373.1      2   100   \n",
       "1      2       MARICO  2,776.6  2,875    2,770  2,776.6    2,781   -4.4   179   \n",
       "2      3    EASTRNLUB  2,439.6  2,475  2,425.5  2,439.6  2,431.6      8   937   \n",
       "3      4   UNILEVERCL    2,376  2,405    2,375  2,377.5  2,388.3  -12.3    40   \n",
       "4      5    BERGERPBL  1,421.8  1,430  1,409.3  1,421.8    1,415    6.8   465   \n",
       "..   ...          ...      ...    ...      ...      ...      ...    ...   ...   \n",
       "392  393        PLFSL      1.1    1.2      1.1      1.1      1.1      0    77   \n",
       "393  394    BDSERVICE        0      0        0      5.2      5.2     --     0   \n",
       "394  395     SAVAREFR        0      0        0    215.5    215.5     --     0   \n",
       "395  396      ATCSLGF        0      0        0      7.5      7.5     --     0   \n",
       "396  397     VAMLRBBF        0      0        0      5.6      5.6     --     0   \n",
       "\n",
       "    VALUE (mn)   VOLUME  \n",
       "0         1.95      578  \n",
       "1       11.654    4,195  \n",
       "2       14.382    5,851  \n",
       "3        0.212       89  \n",
       "4       21.706   15,321  \n",
       "..         ...      ...  \n",
       "392       0.53  481,157  \n",
       "393          0        0  \n",
       "394          0        0  \n",
       "395          0        0  \n",
       "396          0        0  \n",
       "\n",
       "[397 rows x 11 columns]"
      ]
     },
     "execution_count": 29,
     "metadata": {},
     "output_type": "execute_result"
    }
   ],
   "source": [
    "df"
   ]
  },
  {
   "cell_type": "code",
   "execution_count": 30,
   "id": "2992acfd-541d-4b2a-be0e-429cf34353f6",
   "metadata": {},
   "outputs": [],
   "source": [
    "df.to_csv(r'E:\\ML\\DSEBS3.csv', index = False)"
   ]
  },
  {
   "cell_type": "code",
   "execution_count": null,
   "id": "3a71ed47-8f15-40f8-a2f4-3a4f30a6857c",
   "metadata": {},
   "outputs": [],
   "source": []
  }
 ],
 "metadata": {
  "kernelspec": {
   "display_name": "Python 3 (ipykernel)",
   "language": "python",
   "name": "python3"
  },
  "language_info": {
   "codemirror_mode": {
    "name": "ipython",
    "version": 3
   },
   "file_extension": ".py",
   "mimetype": "text/x-python",
   "name": "python",
   "nbconvert_exporter": "python",
   "pygments_lexer": "ipython3",
   "version": "3.13.7"
  }
 },
 "nbformat": 4,
 "nbformat_minor": 5
}
